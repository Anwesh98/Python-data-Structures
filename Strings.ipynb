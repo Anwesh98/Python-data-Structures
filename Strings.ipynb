{
 "cells": [
  {
   "cell_type": "code",
   "execution_count": 2,
   "metadata": {},
   "outputs": [
    {
     "name": "stdout",
     "output_type": "stream",
     "text": [
      "enter the price 6465421232\n",
      "The price is: 6465421232\n"
     ]
    }
   ],
   "source": [
    "price=int(input('enter the price '))\n",
    "s= 'The price '\n",
    "v= s+'is: '+ str(price)\n",
    "print(v)"
   ]
  },
  {
   "cell_type": "code",
   "execution_count": 11,
   "metadata": {},
   "outputs": [
    {
     "name": "stdout",
     "output_type": "stream",
     "text": [
      "e_of_programming\n"
     ]
    }
   ],
   "source": [
    "a='Game_of_programming'\n",
    "print(a[3:21])"
   ]
  },
  {
   "cell_type": "code",
   "execution_count": 13,
   "metadata": {},
   "outputs": [
    {
     "name": "stdout",
     "output_type": "stream",
     "text": [
      "19\n"
     ]
    }
   ],
   "source": [
    "print(len(a))"
   ]
  },
  {
   "cell_type": "code",
   "execution_count": 14,
   "metadata": {},
   "outputs": [
    {
     "data": {
      "text/plain": [
       "'Game_of_programming'"
      ]
     },
     "execution_count": 14,
     "metadata": {},
     "output_type": "execute_result"
    }
   ],
   "source": [
    "a"
   ]
  },
  {
   "cell_type": "code",
   "execution_count": 15,
   "metadata": {},
   "outputs": [
    {
     "data": {
      "text/plain": [
       "'gnimmargorp_fo_emaG'"
      ]
     },
     "execution_count": 15,
     "metadata": {},
     "output_type": "execute_result"
    }
   ],
   "source": [
    "a[::-1] #best way for string reversal "
   ]
  },
  {
   "cell_type": "code",
   "execution_count": 17,
   "metadata": {},
   "outputs": [
    {
     "name": "stdout",
     "output_type": "stream",
     "text": [
      "           ajsbjxb      xhiqsbxihb      xibq      \n",
      "ajsbjxb      xhiqsbxihb      xibq\n"
     ]
    }
   ],
   "source": [
    "a=input()\n",
    "b=a.strip() #remove spaces from start and the end [dot functions are called as methods]\n",
    "print(b)"
   ]
  },
  {
   "cell_type": "code",
   "execution_count": 18,
   "metadata": {},
   "outputs": [
    {
     "data": {
      "text/plain": [
       "'ajsbjxb      xhiqsbxihb      xibq'"
      ]
     },
     "execution_count": 18,
     "metadata": {},
     "output_type": "execute_result"
    }
   ],
   "source": [
    "b"
   ]
  },
  {
   "cell_type": "code",
   "execution_count": 19,
   "metadata": {},
   "outputs": [
    {
     "data": {
      "text/plain": [
       "'           ajsbjxb      xhiqsbxihb      xibq      '"
      ]
     },
     "execution_count": 19,
     "metadata": {},
     "output_type": "execute_result"
    }
   ],
   "source": [
    "a"
   ]
  },
  {
   "cell_type": "code",
   "execution_count": 20,
   "metadata": {},
   "outputs": [
    {
     "name": "stdout",
     "output_type": "stream",
     "text": [
      "enter uppercase and lower case letters mixedUGSVVjbbscbHGhKjcbjksbckGBKJbcvj\n",
      "ugsvvjbbscbhghkjcbjksbckgbkjbcvj\n",
      "UGSVVJBBSCBHGHKJCBJKSBCKGBKJBCVJ\n"
     ]
    }
   ],
   "source": [
    "x=input(\"enter uppercase and lower case letters mixed\")\n",
    "print(x.lower())\n",
    "print(x.upper())"
   ]
  },
  {
   "cell_type": "code",
   "execution_count": 31,
   "metadata": {},
   "outputs": [
    {
     "name": "stdout",
     "output_type": "stream",
     "text": [
      "ahs ;; ; ;; iuwdmk\n"
     ]
    }
   ],
   "source": [
    "#replacing some particular substring(/character) with other string(/character)\n",
    "a='ahs ;; ; ;; iuwdg'\n",
    "print(a.replace(\"g\",\"mk\"))\n",
    "#if there is no string as mentined in the first place in replace method, the string remains unchanged"
   ]
  },
  {
   "cell_type": "code",
   "execution_count": 2,
   "metadata": {},
   "outputs": [
    {
     "name": "stdout",
     "output_type": "stream",
     "text": [
      "['game;', 'no:', 'split%^', 'aohchi12345']\n"
     ]
    }
   ],
   "source": [
    "L=\"game;,no:,split%^,aohchi12345\".split(',') #returns list with the given substrings\n",
    "print(L)"
   ]
  },
  {
   "cell_type": "code",
   "execution_count": null,
   "metadata": {},
   "outputs": [],
   "source": []
  }
 ],
 "metadata": {
  "kernelspec": {
   "display_name": "Python 3",
   "language": "python",
   "name": "python3"
  },
  "language_info": {
   "codemirror_mode": {
    "name": "ipython",
    "version": 3
   },
   "file_extension": ".py",
   "mimetype": "text/x-python",
   "name": "python",
   "nbconvert_exporter": "python",
   "pygments_lexer": "ipython3",
   "version": "3.8.5"
  }
 },
 "nbformat": 4,
 "nbformat_minor": 4
}
